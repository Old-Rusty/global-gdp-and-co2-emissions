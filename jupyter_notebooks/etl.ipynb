{
  "cells": [
    {
      "cell_type": "markdown",
      "metadata": {
        "id": "0aStgWSO0E0E"
      },
      "source": [
        "# **ETL Process**"
      ]
    },
    {
      "cell_type": "markdown",
      "metadata": {
        "id": "1eLEkw5O0ECa"
      },
      "source": [
        "## Objectives\n",
        "\n",
        "* Extract data from raw csv dataset into a pandas DataFrame\n",
        "* Clean and transform extracted DataFrame\n",
        "* Load processed pandas data frame into a csv file\n",
        "\n",
        "## Inputs\n",
        "\n",
        "* Raw dataset required, gathered from kaggle\n",
        "\n",
        "## Outputs\n",
        "\n",
        "* Generate processed dataset as a csv file\n",
        "\n",
        "## Additional Comments\n",
        "\n",
        "* Dataset source: https://www.kaggle.com/datasets/mackness/global-gdp-and-co-emissions-dataset-19602022?resource=download \n",
        "* Source dataset is already cleaned, but cleaning step will still take place\n",
        "\n"
      ]
    },
    {
      "cell_type": "markdown",
      "metadata": {
        "id": "9uWZXH9LwoQg"
      },
      "source": [
        "---"
      ]
    },
    {
      "cell_type": "markdown",
      "metadata": {
        "id": "cqP-UeN-z3i2"
      },
      "source": [
        "# Change working directory"
      ]
    },
    {
      "cell_type": "markdown",
      "metadata": {},
      "source": [
        "* We are assuming you will store the notebooks in a subfolder, therefore when running the notebook in the editor, you will need to change the working directory"
      ]
    },
    {
      "cell_type": "markdown",
      "metadata": {
        "id": "aOGIGS-uz3i2"
      },
      "source": [
        "We need to change the working directory from its current folder to its parent folder\n",
        "* We access the current directory with os.getcwd()"
      ]
    },
    {
      "cell_type": "code",
      "execution_count": 1,
      "metadata": {
        "id": "wZfF_j-Bz3i4",
        "outputId": "66943449-1436-4c3d-85c7-b85f9f78349b"
      },
      "outputs": [
        {
          "data": {
            "text/plain": [
              "'c:\\\\Users\\\\fanxi\\\\OneDrive\\\\Documents\\\\hackathon\\\\hackathon1\\\\global-gdp-and-co2-emissions\\\\jupyter_notebooks'"
            ]
          },
          "execution_count": 1,
          "metadata": {},
          "output_type": "execute_result"
        }
      ],
      "source": [
        "import os\n",
        "current_dir = os.getcwd()\n",
        "current_dir"
      ]
    },
    {
      "cell_type": "markdown",
      "metadata": {
        "id": "9MWW8E7lz3i7"
      },
      "source": [
        "We want to make the parent of the current directory the new current directory\n",
        "* os.path.dirname() gets the parent directory\n",
        "* os.chir() defines the new current directory"
      ]
    },
    {
      "cell_type": "code",
      "execution_count": 2,
      "metadata": {
        "id": "TwHsQRWjz3i9",
        "outputId": "86849db3-cd2f-4cc5-ebb8-2d0caafa1a2c"
      },
      "outputs": [
        {
          "name": "stdout",
          "output_type": "stream",
          "text": [
            "You set a new current directory\n"
          ]
        }
      ],
      "source": [
        "os.chdir(os.path.dirname(current_dir))\n",
        "print(\"You set a new current directory\")"
      ]
    },
    {
      "cell_type": "markdown",
      "metadata": {
        "id": "M_xPk_Ijz3i-"
      },
      "source": [
        "Confirm the new current directory"
      ]
    },
    {
      "cell_type": "code",
      "execution_count": 3,
      "metadata": {
        "id": "vz3S-_kjz3jA",
        "outputId": "00b79ae4-75d0-4a96-d193-ac9ef9847ea2"
      },
      "outputs": [
        {
          "data": {
            "text/plain": [
              "'c:\\\\Users\\\\fanxi\\\\OneDrive\\\\Documents\\\\hackathon\\\\hackathon1\\\\global-gdp-and-co2-emissions'"
            ]
          },
          "execution_count": 3,
          "metadata": {},
          "output_type": "execute_result"
        }
      ],
      "source": [
        "current_dir = os.getcwd()\n",
        "current_dir"
      ]
    },
    {
      "cell_type": "markdown",
      "metadata": {
        "id": "-mavJ8DibrcQ"
      },
      "source": [
        "# Initial setup"
      ]
    },
    {
      "cell_type": "markdown",
      "metadata": {},
      "source": [
        "### Prerequisites\n",
        "Ensure that the reqired packages in requirements.txt are installed to the kernel."
      ]
    },
    {
      "cell_type": "markdown",
      "metadata": {},
      "source": [
        "### Import libaries\n",
        "Import numpy and pandas libary"
      ]
    },
    {
      "cell_type": "code",
      "execution_count": 4,
      "metadata": {},
      "outputs": [],
      "source": [
        "import numpy as np\n",
        "import pandas as pd"
      ]
    },
    {
      "cell_type": "markdown",
      "metadata": {
        "id": "ZY3l0-AxO93d"
      },
      "source": [
        "---"
      ]
    },
    {
      "cell_type": "markdown",
      "metadata": {
        "id": "uFQo3ycuO-v6"
      },
      "source": [
        "# Data extraction"
      ]
    },
    {
      "cell_type": "markdown",
      "metadata": {},
      "source": [
        "### Extracting Dataset \n",
        "Create a pandas dataset from the CSV file."
      ]
    },
    {
      "cell_type": "code",
      "execution_count": 13,
      "metadata": {},
      "outputs": [
        {
          "data": {
            "text/html": [
              "<div>\n",
              "<style scoped>\n",
              "    .dataframe tbody tr th:only-of-type {\n",
              "        vertical-align: middle;\n",
              "    }\n",
              "\n",
              "    .dataframe tbody tr th {\n",
              "        vertical-align: top;\n",
              "    }\n",
              "\n",
              "    .dataframe thead th {\n",
              "        text-align: right;\n",
              "    }\n",
              "</style>\n",
              "<table border=\"1\" class=\"dataframe\">\n",
              "  <thead>\n",
              "    <tr style=\"text-align: right;\">\n",
              "      <th></th>\n",
              "      <th>Country Name</th>\n",
              "      <th>Country Code</th>\n",
              "      <th>Year</th>\n",
              "      <th>Population</th>\n",
              "      <th>Pop Log</th>\n",
              "      <th>Pop Outliers</th>\n",
              "      <th>Pop Category</th>\n",
              "      <th>CO2</th>\n",
              "      <th>CO2 %</th>\n",
              "      <th>Per Capita CO2</th>\n",
              "      <th>...</th>\n",
              "      <th>CO2 Log</th>\n",
              "      <th>CO2 Outliers</th>\n",
              "      <th>Emissions Category</th>\n",
              "      <th>GDP USD</th>\n",
              "      <th>GDP USD Log</th>\n",
              "      <th>GDP %</th>\n",
              "      <th>GDP % Winsor</th>\n",
              "      <th>GDP Per Capita</th>\n",
              "      <th>GDP Category</th>\n",
              "      <th>CO2 Per GDP</th>\n",
              "    </tr>\n",
              "  </thead>\n",
              "  <tbody>\n",
              "    <tr>\n",
              "      <th>0</th>\n",
              "      <td>Afghanistan</td>\n",
              "      <td>AFG</td>\n",
              "      <td>1961</td>\n",
              "      <td>9214082.0</td>\n",
              "      <td>16.036244</td>\n",
              "      <td>not outlier</td>\n",
              "      <td>1M-10M</td>\n",
              "      <td>0.491</td>\n",
              "      <td>NaN</td>\n",
              "      <td>5.328800e-08</td>\n",
              "      <td>...</td>\n",
              "      <td>0.399447</td>\n",
              "      <td>False</td>\n",
              "      <td>Moderate</td>\n",
              "      <td>308.318270</td>\n",
              "      <td>5.734371</td>\n",
              "      <td>-10.119484</td>\n",
              "      <td>-10.119484</td>\n",
              "      <td>0.000033</td>\n",
              "      <td>Low GDP</td>\n",
              "      <td>0.001593</td>\n",
              "    </tr>\n",
              "    <tr>\n",
              "      <th>1</th>\n",
              "      <td>Afghanistan</td>\n",
              "      <td>AFG</td>\n",
              "      <td>1962</td>\n",
              "      <td>9404411.0</td>\n",
              "      <td>16.056689</td>\n",
              "      <td>not outlier</td>\n",
              "      <td>1M-10M</td>\n",
              "      <td>0.689</td>\n",
              "      <td>40.325866</td>\n",
              "      <td>7.326349e-08</td>\n",
              "      <td>...</td>\n",
              "      <td>0.524137</td>\n",
              "      <td>False</td>\n",
              "      <td>Moderate</td>\n",
              "      <td>308.318270</td>\n",
              "      <td>5.734371</td>\n",
              "      <td>-10.119484</td>\n",
              "      <td>-10.119484</td>\n",
              "      <td>0.000033</td>\n",
              "      <td>Low GDP</td>\n",
              "      <td>0.002235</td>\n",
              "    </tr>\n",
              "    <tr>\n",
              "      <th>2</th>\n",
              "      <td>Afghanistan</td>\n",
              "      <td>AFG</td>\n",
              "      <td>1963</td>\n",
              "      <td>9604491.0</td>\n",
              "      <td>16.077741</td>\n",
              "      <td>not outlier</td>\n",
              "      <td>1M-10M</td>\n",
              "      <td>0.707</td>\n",
              "      <td>2.612482</td>\n",
              "      <td>7.361140e-08</td>\n",
              "      <td>...</td>\n",
              "      <td>0.534737</td>\n",
              "      <td>False</td>\n",
              "      <td>Moderate</td>\n",
              "      <td>308.318270</td>\n",
              "      <td>5.734371</td>\n",
              "      <td>-10.119484</td>\n",
              "      <td>-10.119484</td>\n",
              "      <td>0.000032</td>\n",
              "      <td>Low GDP</td>\n",
              "      <td>0.002293</td>\n",
              "    </tr>\n",
              "    <tr>\n",
              "      <th>3</th>\n",
              "      <td>Afghanistan</td>\n",
              "      <td>AFG</td>\n",
              "      <td>1964</td>\n",
              "      <td>9814318.0</td>\n",
              "      <td>16.099353</td>\n",
              "      <td>not outlier</td>\n",
              "      <td>1M-10M</td>\n",
              "      <td>0.839</td>\n",
              "      <td>18.670438</td>\n",
              "      <td>8.548735e-08</td>\n",
              "      <td>...</td>\n",
              "      <td>0.609222</td>\n",
              "      <td>False</td>\n",
              "      <td>Moderate</td>\n",
              "      <td>308.318270</td>\n",
              "      <td>5.734371</td>\n",
              "      <td>-10.119484</td>\n",
              "      <td>-10.119484</td>\n",
              "      <td>0.000031</td>\n",
              "      <td>Low GDP</td>\n",
              "      <td>0.002721</td>\n",
              "    </tr>\n",
              "    <tr>\n",
              "      <th>4</th>\n",
              "      <td>Afghanistan</td>\n",
              "      <td>AFG</td>\n",
              "      <td>1965</td>\n",
              "      <td>10036003.0</td>\n",
              "      <td>16.121690</td>\n",
              "      <td>not outlier</td>\n",
              "      <td>10M-100M</td>\n",
              "      <td>1.007</td>\n",
              "      <td>20.023838</td>\n",
              "      <td>1.003388e-07</td>\n",
              "      <td>...</td>\n",
              "      <td>0.696641</td>\n",
              "      <td>False</td>\n",
              "      <td>Moderate</td>\n",
              "      <td>308.318270</td>\n",
              "      <td>5.734371</td>\n",
              "      <td>-10.119484</td>\n",
              "      <td>-10.119484</td>\n",
              "      <td>0.000031</td>\n",
              "      <td>Low GDP</td>\n",
              "      <td>0.003266</td>\n",
              "    </tr>\n",
              "    <tr>\n",
              "      <th>...</th>\n",
              "      <td>...</td>\n",
              "      <td>...</td>\n",
              "      <td>...</td>\n",
              "      <td>...</td>\n",
              "      <td>...</td>\n",
              "      <td>...</td>\n",
              "      <td>...</td>\n",
              "      <td>...</td>\n",
              "      <td>...</td>\n",
              "      <td>...</td>\n",
              "      <td>...</td>\n",
              "      <td>...</td>\n",
              "      <td>...</td>\n",
              "      <td>...</td>\n",
              "      <td>...</td>\n",
              "      <td>...</td>\n",
              "      <td>...</td>\n",
              "      <td>...</td>\n",
              "      <td>...</td>\n",
              "      <td>...</td>\n",
              "      <td>...</td>\n",
              "    </tr>\n",
              "    <tr>\n",
              "      <th>12502</th>\n",
              "      <td>Zimbabwe</td>\n",
              "      <td>ZWE</td>\n",
              "      <td>2019</td>\n",
              "      <td>15271377.0</td>\n",
              "      <td>16.541491</td>\n",
              "      <td>not outlier</td>\n",
              "      <td>10M-100M</td>\n",
              "      <td>10.263</td>\n",
              "      <td>-8.406961</td>\n",
              "      <td>6.720416e-07</td>\n",
              "      <td>...</td>\n",
              "      <td>2.421523</td>\n",
              "      <td>False</td>\n",
              "      <td>High</td>\n",
              "      <td>1350.309851</td>\n",
              "      <td>7.208830</td>\n",
              "      <td>-7.785580</td>\n",
              "      <td>-7.785580</td>\n",
              "      <td>0.000088</td>\n",
              "      <td>Low GDP</td>\n",
              "      <td>0.007600</td>\n",
              "    </tr>\n",
              "    <tr>\n",
              "      <th>12503</th>\n",
              "      <td>Zimbabwe</td>\n",
              "      <td>ZWE</td>\n",
              "      <td>2020</td>\n",
              "      <td>15526888.0</td>\n",
              "      <td>16.558084</td>\n",
              "      <td>not outlier</td>\n",
              "      <td>10M-100M</td>\n",
              "      <td>8.495</td>\n",
              "      <td>-17.226932</td>\n",
              "      <td>5.471154e-07</td>\n",
              "      <td>...</td>\n",
              "      <td>2.250765</td>\n",
              "      <td>False</td>\n",
              "      <td>High</td>\n",
              "      <td>1224.272314</td>\n",
              "      <td>7.110918</td>\n",
              "      <td>-9.333971</td>\n",
              "      <td>-9.333971</td>\n",
              "      <td>0.000079</td>\n",
              "      <td>Low GDP</td>\n",
              "      <td>0.006939</td>\n",
              "    </tr>\n",
              "    <tr>\n",
              "      <th>12504</th>\n",
              "      <td>Zimbabwe</td>\n",
              "      <td>ZWE</td>\n",
              "      <td>2021</td>\n",
              "      <td>15797220.0</td>\n",
              "      <td>16.575345</td>\n",
              "      <td>not outlier</td>\n",
              "      <td>10M-100M</td>\n",
              "      <td>10.204</td>\n",
              "      <td>20.117716</td>\n",
              "      <td>6.459364e-07</td>\n",
              "      <td>...</td>\n",
              "      <td>2.416271</td>\n",
              "      <td>False</td>\n",
              "      <td>High</td>\n",
              "      <td>1305.220113</td>\n",
              "      <td>7.174893</td>\n",
              "      <td>6.611911</td>\n",
              "      <td>6.611911</td>\n",
              "      <td>0.000083</td>\n",
              "      <td>Low GDP</td>\n",
              "      <td>0.007818</td>\n",
              "    </tr>\n",
              "    <tr>\n",
              "      <th>12505</th>\n",
              "      <td>Zimbabwe</td>\n",
              "      <td>ZWE</td>\n",
              "      <td>2022</td>\n",
              "      <td>16069061.0</td>\n",
              "      <td>16.592406</td>\n",
              "      <td>not outlier</td>\n",
              "      <td>10M-100M</td>\n",
              "      <td>10.425</td>\n",
              "      <td>2.165817</td>\n",
              "      <td>6.487622e-07</td>\n",
              "      <td>...</td>\n",
              "      <td>2.435804</td>\n",
              "      <td>False</td>\n",
              "      <td>High</td>\n",
              "      <td>1361.914530</td>\n",
              "      <td>7.217381</td>\n",
              "      <td>4.343667</td>\n",
              "      <td>4.343667</td>\n",
              "      <td>0.000085</td>\n",
              "      <td>Low GDP</td>\n",
              "      <td>0.007655</td>\n",
              "    </tr>\n",
              "    <tr>\n",
              "      <th>12506</th>\n",
              "      <td>Zimbabwe</td>\n",
              "      <td>ZWE</td>\n",
              "      <td>2023</td>\n",
              "      <td>16340829.0</td>\n",
              "      <td>16.609177</td>\n",
              "      <td>not outlier</td>\n",
              "      <td>10M-100M</td>\n",
              "      <td>11.164</td>\n",
              "      <td>7.088729</td>\n",
              "      <td>6.831967e-07</td>\n",
              "      <td>...</td>\n",
              "      <td>2.498481</td>\n",
              "      <td>False</td>\n",
              "      <td>High</td>\n",
              "      <td>1410.737311</td>\n",
              "      <td>7.252576</td>\n",
              "      <td>3.584864</td>\n",
              "      <td>3.584864</td>\n",
              "      <td>0.000086</td>\n",
              "      <td>Low GDP</td>\n",
              "      <td>0.007914</td>\n",
              "    </tr>\n",
              "  </tbody>\n",
              "</table>\n",
              "<p>12507 rows × 21 columns</p>\n",
              "</div>"
            ],
            "text/plain": [
              "      Country Name Country Code  Year  Population    Pop Log Pop Outliers  \\\n",
              "0      Afghanistan          AFG  1961   9214082.0  16.036244  not outlier   \n",
              "1      Afghanistan          AFG  1962   9404411.0  16.056689  not outlier   \n",
              "2      Afghanistan          AFG  1963   9604491.0  16.077741  not outlier   \n",
              "3      Afghanistan          AFG  1964   9814318.0  16.099353  not outlier   \n",
              "4      Afghanistan          AFG  1965  10036003.0  16.121690  not outlier   \n",
              "...            ...          ...   ...         ...        ...          ...   \n",
              "12502     Zimbabwe          ZWE  2019  15271377.0  16.541491  not outlier   \n",
              "12503     Zimbabwe          ZWE  2020  15526888.0  16.558084  not outlier   \n",
              "12504     Zimbabwe          ZWE  2021  15797220.0  16.575345  not outlier   \n",
              "12505     Zimbabwe          ZWE  2022  16069061.0  16.592406  not outlier   \n",
              "12506     Zimbabwe          ZWE  2023  16340829.0  16.609177  not outlier   \n",
              "\n",
              "      Pop Category     CO2      CO2 %  Per Capita CO2  ...   CO2 Log  \\\n",
              "0           1M-10M   0.491        NaN    5.328800e-08  ...  0.399447   \n",
              "1           1M-10M   0.689  40.325866    7.326349e-08  ...  0.524137   \n",
              "2           1M-10M   0.707   2.612482    7.361140e-08  ...  0.534737   \n",
              "3           1M-10M   0.839  18.670438    8.548735e-08  ...  0.609222   \n",
              "4         10M-100M   1.007  20.023838    1.003388e-07  ...  0.696641   \n",
              "...            ...     ...        ...             ...  ...       ...   \n",
              "12502     10M-100M  10.263  -8.406961    6.720416e-07  ...  2.421523   \n",
              "12503     10M-100M   8.495 -17.226932    5.471154e-07  ...  2.250765   \n",
              "12504     10M-100M  10.204  20.117716    6.459364e-07  ...  2.416271   \n",
              "12505     10M-100M  10.425   2.165817    6.487622e-07  ...  2.435804   \n",
              "12506     10M-100M  11.164   7.088729    6.831967e-07  ...  2.498481   \n",
              "\n",
              "       CO2 Outliers Emissions Category      GDP USD  GDP USD Log      GDP %  \\\n",
              "0             False           Moderate   308.318270     5.734371 -10.119484   \n",
              "1             False           Moderate   308.318270     5.734371 -10.119484   \n",
              "2             False           Moderate   308.318270     5.734371 -10.119484   \n",
              "3             False           Moderate   308.318270     5.734371 -10.119484   \n",
              "4             False           Moderate   308.318270     5.734371 -10.119484   \n",
              "...             ...                ...          ...          ...        ...   \n",
              "12502         False               High  1350.309851     7.208830  -7.785580   \n",
              "12503         False               High  1224.272314     7.110918  -9.333971   \n",
              "12504         False               High  1305.220113     7.174893   6.611911   \n",
              "12505         False               High  1361.914530     7.217381   4.343667   \n",
              "12506         False               High  1410.737311     7.252576   3.584864   \n",
              "\n",
              "       GDP % Winsor  GDP Per Capita  GDP Category CO2 Per GDP  \n",
              "0        -10.119484        0.000033       Low GDP    0.001593  \n",
              "1        -10.119484        0.000033       Low GDP    0.002235  \n",
              "2        -10.119484        0.000032       Low GDP    0.002293  \n",
              "3        -10.119484        0.000031       Low GDP    0.002721  \n",
              "4        -10.119484        0.000031       Low GDP    0.003266  \n",
              "...             ...             ...           ...         ...  \n",
              "12502     -7.785580        0.000088       Low GDP    0.007600  \n",
              "12503     -9.333971        0.000079       Low GDP    0.006939  \n",
              "12504      6.611911        0.000083       Low GDP    0.007818  \n",
              "12505      4.343667        0.000085       Low GDP    0.007655  \n",
              "12506      3.584864        0.000086       Low GDP    0.007914  \n",
              "\n",
              "[12507 rows x 21 columns]"
            ]
          },
          "execution_count": 13,
          "metadata": {},
          "output_type": "execute_result"
        }
      ],
      "source": [
        "df = pd.read_csv('dataset/raw/gdp_co2_by_country.csv') ## Directory to the dataset\n",
        "df"
      ]
    },
    {
      "cell_type": "markdown",
      "metadata": {},
      "source": [
        "#### DataFrame info\n",
        "Below are some information of the DataFrame including:\n",
        "* Shape of DataFrame\n",
        "* Features of DataFrame\n",
        "* Data type of values"
      ]
    },
    {
      "cell_type": "code",
      "execution_count": null,
      "metadata": {},
      "outputs": [
        {
          "data": {
            "text/plain": [
              "(12507, 21)"
            ]
          },
          "execution_count": 14,
          "metadata": {},
          "output_type": "execute_result"
        }
      ],
      "source": [
        "## The dimention of the DataFrame (rows, columns)\n",
        "df.shape\n",
        "## From this we can see the number of features (columns) and the number of samples (rows) in the DataFrame"
      ]
    },
    {
      "cell_type": "code",
      "execution_count": null,
      "metadata": {},
      "outputs": [
        {
          "data": {
            "text/plain": [
              "Index(['Country Name', 'Country Code', 'Year', 'Population', 'Pop Log',\n",
              "       'Pop Outliers', 'Pop Category', 'CO2', 'CO2 %', 'Per Capita CO2',\n",
              "       'Cumulative CO2', 'CO2 Log', 'CO2 Outliers', 'Emissions Category',\n",
              "       'GDP USD', 'GDP USD Log', 'GDP %', 'GDP % Winsor', 'GDP Per Capita',\n",
              "       'GDP Category', 'CO2 Per GDP'],\n",
              "      dtype='object')"
            ]
          },
          "execution_count": 15,
          "metadata": {},
          "output_type": "execute_result"
        }
      ],
      "source": [
        "## The features of the DataFrame (Names of columns)\n",
        "df.columns"
      ]
    },
    {
      "cell_type": "code",
      "execution_count": null,
      "metadata": {},
      "outputs": [
        {
          "data": {
            "text/plain": [
              "Country Name           object\n",
              "Country Code           object\n",
              "Year                    int64\n",
              "Population            float64\n",
              "Pop Log               float64\n",
              "Pop Outliers           object\n",
              "Pop Category           object\n",
              "CO2                   float64\n",
              "CO2 %                 float64\n",
              "Per Capita CO2        float64\n",
              "Cumulative CO2        float64\n",
              "CO2 Log               float64\n",
              "CO2 Outliers           object\n",
              "Emissions Category     object\n",
              "GDP USD               float64\n",
              "GDP USD Log           float64\n",
              "GDP %                 float64\n",
              "GDP % Winsor          float64\n",
              "GDP Per Capita        float64\n",
              "GDP Category           object\n",
              "CO2 Per GDP           float64\n",
              "dtype: object"
            ]
          },
          "execution_count": 18,
          "metadata": {},
          "output_type": "execute_result"
        }
      ],
      "source": [
        "## Data type of values\n",
        "df.dtypes"
      ]
    },
    {
      "cell_type": "markdown",
      "metadata": {},
      "source": [
        "---"
      ]
    },
    {
      "cell_type": "markdown",
      "metadata": {},
      "source": [
        "NOTE"
      ]
    },
    {
      "cell_type": "markdown",
      "metadata": {},
      "source": [
        "* You may add as many sections as you want, as long as it supports your project workflow.\n",
        "* All notebook's cells should be run top-down (you can't create a dynamic wherein a given point you need to go back to a previous cell to execute some task, like go back to a previous cell and refresh a variable content)"
      ]
    },
    {
      "cell_type": "markdown",
      "metadata": {},
      "source": [
        "---"
      ]
    },
    {
      "cell_type": "markdown",
      "metadata": {
        "id": "ltNetd085qHf"
      },
      "source": [
        "# Push files to Repo"
      ]
    },
    {
      "cell_type": "markdown",
      "metadata": {},
      "source": [
        "* In cases where you don't need to push files to Repo, you may replace this section with \"Conclusions and Next Steps\" and state your conclusions and next steps."
      ]
    },
    {
      "cell_type": "code",
      "execution_count": null,
      "metadata": {
        "id": "aKlnIozA4eQO",
        "outputId": "fd09bc1f-adb1-4511-f6ce-492a6af570c0"
      },
      "outputs": [],
      "source": [
        "import os\n",
        "try:\n",
        "  # create your folder here\n",
        "  # os.makedirs(name='')\n",
        "except Exception as e:\n",
        "  print(e)\n"
      ]
    }
  ],
  "metadata": {
    "accelerator": "GPU",
    "colab": {
      "name": "Data Practitioner Jupyter Notebook.ipynb",
      "provenance": [],
      "toc_visible": true
    },
    "kernelspec": {
      "display_name": ".venv (3.12.8)",
      "language": "python",
      "name": "python3"
    },
    "language_info": {
      "codemirror_mode": {
        "name": "ipython",
        "version": 3
      },
      "file_extension": ".py",
      "mimetype": "text/x-python",
      "name": "python",
      "nbconvert_exporter": "python",
      "pygments_lexer": "ipython3",
      "version": "3.12.8"
    },
    "orig_nbformat": 2
  },
  "nbformat": 4,
  "nbformat_minor": 2
}
